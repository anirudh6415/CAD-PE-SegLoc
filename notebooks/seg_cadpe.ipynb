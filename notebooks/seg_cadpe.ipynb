{
 "cells": [
  {
   "cell_type": "code",
   "execution_count": 1,
   "id": "87198de9-2066-430e-b80c-767f45e32ae7",
   "metadata": {},
   "outputs": [],
   "source": [
    "import numpy as np\n",
    "import matplotlib.pyplot as plt\n",
    "from PIL import Image\n",
    "from torchmetrics.functional import accuracy\n",
    "import torch\n",
    "import torch.nn as nn\n",
    "from torchvision import transforms\n",
    "from torch.utils.data import Dataset, DataLoader\n",
    "import pandas as pd\n",
    "from torchmetrics.functional import accuracy\n",
    "from monai.networks.nets import UNet\n",
    "from monai.losses import DiceLoss\n",
    "from monai.metrics import DiceMetric\n",
    "import os\n",
    "from tqdm import tqdm\n",
    "import tifffile\n",
    "import random\n",
    "import sys\n",
    "import torch.nn as nn\n",
    "from torchmetrics.classification import JaccardIndex\n",
    "from cad_pe_segmentation.dataset import *\n",
    "from torchmetrics import Dice"
   ]
  },
  {
   "cell_type": "code",
   "execution_count": 2,
   "id": "90889e7d-f9d7-4aa5-aac5-32c52ce31d55",
   "metadata": {},
   "outputs": [
    {
     "data": {
      "text/plain": [
       "('cuda', 4)"
      ]
     },
     "execution_count": 2,
     "metadata": {},
     "output_type": "execute_result"
    }
   ],
   "source": [
    "device = \"cuda\" if torch.cuda.is_available() else \"cpu\"\n",
    "num_gpus = torch.cuda.device_count()\n",
    "device , num_gpus\n"
   ]
  },
  {
   "cell_type": "code",
   "execution_count": 3,
   "id": "47ed09e2-2720-4373-8bd7-7416e0386c1e",
   "metadata": {},
   "outputs": [],
   "source": [
    "def binary(org_img):\n",
    "    #print(np.any(org_img))\n",
    "    if np.any(org_img):\n",
    "        normalized_img = (org_img - np.min(org_img)) / (np.max(org_img) - np.min(org_img))\n",
    "        normalized_img[normalized_img < 0.5] = 0\n",
    "        normalized_img[normalized_img >= 0.5] = 1\n",
    "        return normalized_img.astype(np.float32)\n",
    "    else:\n",
    "        return org_img.astype(np.float32)\n",
    "    \n",
    "def nor_image(org_img):\n",
    "    normalized_img = ((org_img - np.min(org_img)) / (np.max(org_img) - np.min(org_img)))\n",
    "    return normalized_img.astype(np.float32)"
   ]
  },
  {
   "cell_type": "code",
   "execution_count": null,
   "id": "19fabbbd-17c8-48ce-8b3f-1a73a53b7842",
   "metadata": {},
   "outputs": [],
   "source": []
  },
  {
   "cell_type": "code",
   "execution_count": 4,
   "id": "abfa8a9d-d3e4-482f-b6d6-8c14ddd0d34a",
   "metadata": {},
   "outputs": [],
   "source": [
    "image = \"/data/jliang12/nuislam/CAD_PE_Challenge_Data/np_images/\"\n",
    "masks = \"/data/jliang12/nuislam/CAD_PE_Challenge_Data/np_masks/\""
   ]
  },
  {
   "cell_type": "code",
   "execution_count": 5,
   "id": "d1ccd44c-3f99-4aef-af5c-a121c90599c6",
   "metadata": {},
   "outputs": [],
   "source": [
    "image_filenames = [f for f in sorted(os.listdir(image))]\n",
    "mask_filenames = [f for f in sorted(os.listdir(masks))]"
   ]
  },
  {
   "cell_type": "code",
   "execution_count": 6,
   "id": "f43e2d63-34e8-4a85-85f9-98ad63d281fa",
   "metadata": {},
   "outputs": [],
   "source": [
    "from sklearn.model_selection import train_test_split\n",
    "\n",
    "# Splitting the dataset into train and test sets\n",
    "image_filenames_train, image_filenames_test, mask_filenames_train, mask_filenames_test = train_test_split(\n",
    "    image_filenames, mask_filenames, test_size=0.2, random_state=42)\n",
    "\n",
    "# Further splitting the train set into train and validation sets\n",
    "image_filenames_train, image_filenames_val, mask_filenames_train, mask_filenames_val = train_test_split(\n",
    "    image_filenames_train, mask_filenames_train, test_size=0.1, random_state=42)"
   ]
  },
  {
   "cell_type": "code",
   "execution_count": 7,
   "id": "14047b09-b281-417e-bc06-3f79b40dcb0a",
   "metadata": {},
   "outputs": [
    {
     "data": {
      "text/plain": [
       "3301"
      ]
     },
     "execution_count": 7,
     "metadata": {},
     "output_type": "execute_result"
    }
   ],
   "source": [
    "len(image_filenames_val)"
   ]
  },
  {
   "cell_type": "code",
   "execution_count": 8,
   "id": "ebb4cdea-cc91-4dea-844c-a429e8c63c64",
   "metadata": {},
   "outputs": [],
   "source": [
    "data_transform = transforms.Compose([transforms.ToPILImage(),\n",
    "                                     transforms.ToTensor(),\n",
    "                                     transforms.Resize((128,128)),\n",
    "                                     #transforms.Grayscale(num_output_channels = 1),\n",
    "                                     ])"
   ]
  },
  {
   "cell_type": "code",
   "execution_count": 9,
   "id": "b40ea884-0179-4e4c-b96d-066f0e09c9ed",
   "metadata": {},
   "outputs": [],
   "source": [
    "# Creating your segmentation dataset using the split filenames\n",
    "train_dataset = segmentation_dataset(image_filenames=image_filenames_train,\n",
    "                                     mask_filenames=mask_filenames_train,\n",
    "                                     transforms=data_transform)\n",
    "\n",
    "val_dataset = segmentation_dataset(image_filenames=image_filenames_val,\n",
    "                                   mask_filenames=mask_filenames_val,\n",
    "                                   transforms=data_transform)\n",
    "\n",
    "test_dataset = segmentation_dataset(image_filenames=image_filenames_test,\n",
    "                                    mask_filenames=mask_filenames_test,\n",
    "                                    transforms=data_transform)\n"
   ]
  },
  {
   "cell_type": "code",
   "execution_count": 10,
   "id": "64c6b1ac-10bb-4fb5-b8c6-beaf7c265226",
   "metadata": {},
   "outputs": [
    {
     "data": {
      "text/plain": [
       "(29703, 3301, 8252)"
      ]
     },
     "execution_count": 10,
     "metadata": {},
     "output_type": "execute_result"
    }
   ],
   "source": [
    "len(train_dataset),len(val_dataset),len(test_dataset)"
   ]
  },
  {
   "cell_type": "code",
   "execution_count": 11,
   "id": "5ec5e1d7-671c-4220-920b-5b44ab703d31",
   "metadata": {},
   "outputs": [],
   "source": [
    "i,l = train_dataset[8000]\n",
    "\n"
   ]
  },
  {
   "cell_type": "code",
   "execution_count": 12,
   "id": "a3fae93c-df01-4c9c-84eb-b4006f605daa",
   "metadata": {},
   "outputs": [
    {
     "name": "stdout",
     "output_type": "stream",
     "text": [
      "[2.4711696e-04 3.2948930e-04 1.4003294e-03 ... 8.1853378e-01 8.5831964e-01\n",
      " 8.5873145e-01]\n",
      "[0.   0.25 0.5  0.75 1.  ]\n",
      "torch.float32 torch.float32\n",
      "torch.Size([1, 128, 128]) torch.Size([1, 128, 128])\n"
     ]
    },
    {
     "data": {
      "text/plain": [
       "<matplotlib.image.AxesImage at 0x2af4499526d0>"
      ]
     },
     "execution_count": 12,
     "metadata": {},
     "output_type": "execute_result"
    },
    {
     "data": {
      "image/png": "[encoded data removed]",
      "text/plain": [
       "<Figure size 432x288 with 1 Axes>"
      ]
     },
     "metadata": {
      "needs_background": "light"
     },
     "output_type": "display_data"
    }
   ],
   "source": [
    "print(np.unique(i)),print(np.unique(l))\n",
    "print(i.dtype , l.dtype)\n",
    "print(i.shape , l.shape)\n",
    "\n",
    "plt.imshow(i.permute(1,2,0),cmap=\"gray\")\n",
    "plt.imshow(l.permute(1,2,0),cmap=\"gray\",alpha=0.6)"
   ]
  },
  {
   "cell_type": "code",
   "execution_count": 13,
   "id": "74554efe-33cb-4946-9752-558619959b4c",
   "metadata": {},
   "outputs": [],
   "source": [
    "train_loader = DataLoader(train_dataset, batch_size=16, shuffle=True , num_workers = num_gpus)\n",
    "val_loader = DataLoader(val_dataset, batch_size=8,shuffle=True,num_workers = num_gpus)\n",
    "test_loader = DataLoader(test_dataset, batch_size=8, shuffle=True,num_workers = num_gpus)"
   ]
  },
  {
   "cell_type": "code",
   "execution_count": 14,
   "id": "2cf53fcf-1dc2-486e-aca1-1680f1d8ccf5",
   "metadata": {},
   "outputs": [],
   "source": [
    "from torch.nn.parallel import DataParallel\n",
    "from cad_pe_segmentation.model_org import *\n",
    "from torchsummary import summary"
   ]
  },
  {
   "cell_type": "code",
   "execution_count": 15,
   "id": "c3403af7-d6d8-4119-bc65-098dbf947200",
   "metadata": {},
   "outputs": [
    {
     "name": "stdout",
     "output_type": "stream",
     "text": [
      "----------------------------------------------------------------\n",
      "        Layer (type)               Output Shape         Param #\n",
      "================================================================\n",
      "            Conv2d-1         [-1, 64, 256, 256]             640\n",
      "       BatchNorm2d-2         [-1, 64, 256, 256]             128\n",
      "              ReLU-3         [-1, 64, 256, 256]               0\n",
      "            Conv2d-4         [-1, 64, 256, 256]          36,928\n",
      "       BatchNorm2d-5         [-1, 64, 256, 256]             128\n",
      "              ReLU-6         [-1, 64, 256, 256]               0\n",
      "       double_conv-7         [-1, 64, 256, 256]               0\n",
      "            inconv-8         [-1, 64, 256, 256]               0\n",
      "         MaxPool2d-9         [-1, 64, 128, 128]               0\n",
      "           Conv2d-10        [-1, 128, 128, 128]          73,856\n",
      "      BatchNorm2d-11        [-1, 128, 128, 128]             256\n",
      "             ReLU-12        [-1, 128, 128, 128]               0\n",
      "           Conv2d-13        [-1, 128, 128, 128]         147,584\n",
      "      BatchNorm2d-14        [-1, 128, 128, 128]             256\n",
      "             ReLU-15        [-1, 128, 128, 128]               0\n",
      "      double_conv-16        [-1, 128, 128, 128]               0\n",
      "             down-17        [-1, 128, 128, 128]               0\n",
      "        MaxPool2d-18          [-1, 128, 64, 64]               0\n",
      "           Conv2d-19          [-1, 256, 64, 64]         295,168\n",
      "      BatchNorm2d-20          [-1, 256, 64, 64]             512\n",
      "             ReLU-21          [-1, 256, 64, 64]               0\n",
      "           Conv2d-22          [-1, 256, 64, 64]         590,080\n",
      "      BatchNorm2d-23          [-1, 256, 64, 64]             512\n",
      "             ReLU-24          [-1, 256, 64, 64]               0\n",
      "      double_conv-25          [-1, 256, 64, 64]               0\n",
      "             down-26          [-1, 256, 64, 64]               0\n",
      "        MaxPool2d-27          [-1, 256, 32, 32]               0\n",
      "           Conv2d-28          [-1, 512, 32, 32]       1,180,160\n",
      "      BatchNorm2d-29          [-1, 512, 32, 32]           1,024\n",
      "             ReLU-30          [-1, 512, 32, 32]               0\n",
      "           Conv2d-31          [-1, 512, 32, 32]       2,359,808\n",
      "      BatchNorm2d-32          [-1, 512, 32, 32]           1,024\n",
      "             ReLU-33          [-1, 512, 32, 32]               0\n",
      "      double_conv-34          [-1, 512, 32, 32]               0\n",
      "             down-35          [-1, 512, 32, 32]               0\n",
      "        MaxPool2d-36          [-1, 512, 16, 16]               0\n",
      "           Conv2d-37         [-1, 1024, 16, 16]       4,719,616\n",
      "      BatchNorm2d-38         [-1, 1024, 16, 16]           2,048\n",
      "             ReLU-39         [-1, 1024, 16, 16]               0\n",
      "           Conv2d-40         [-1, 1024, 16, 16]       9,438,208\n",
      "      BatchNorm2d-41         [-1, 1024, 16, 16]           2,048\n",
      "             ReLU-42         [-1, 1024, 16, 16]               0\n",
      "      double_conv-43         [-1, 1024, 16, 16]               0\n",
      "             down-44         [-1, 1024, 16, 16]               0\n",
      "        MaxPool2d-45           [-1, 1024, 8, 8]               0\n",
      "           Conv2d-46           [-1, 1024, 8, 8]       9,438,208\n",
      "      BatchNorm2d-47           [-1, 1024, 8, 8]           2,048\n",
      "             ReLU-48           [-1, 1024, 8, 8]               0\n",
      "           Conv2d-49           [-1, 1024, 8, 8]       9,438,208\n",
      "      BatchNorm2d-50           [-1, 1024, 8, 8]           2,048\n",
      "             ReLU-51           [-1, 1024, 8, 8]               0\n",
      "      double_conv-52           [-1, 1024, 8, 8]               0\n",
      "             down-53           [-1, 1024, 8, 8]               0\n",
      "  ConvTranspose2d-54         [-1, 1024, 16, 16]       4,195,328\n",
      "           Conv2d-55          [-1, 512, 16, 16]       9,437,696\n",
      "      BatchNorm2d-56          [-1, 512, 16, 16]           1,024\n",
      "             ReLU-57          [-1, 512, 16, 16]               0\n",
      "           Conv2d-58          [-1, 512, 16, 16]       2,359,808\n",
      "      BatchNorm2d-59          [-1, 512, 16, 16]           1,024\n",
      "             ReLU-60          [-1, 512, 16, 16]               0\n",
      "      double_conv-61          [-1, 512, 16, 16]               0\n",
      "               up-62          [-1, 512, 16, 16]               0\n",
      "  ConvTranspose2d-63          [-1, 512, 32, 32]       1,049,088\n",
      "           Conv2d-64          [-1, 256, 32, 32]       2,359,552\n",
      "      BatchNorm2d-65          [-1, 256, 32, 32]             512\n",
      "             ReLU-66          [-1, 256, 32, 32]               0\n",
      "           Conv2d-67          [-1, 256, 32, 32]         590,080\n",
      "      BatchNorm2d-68          [-1, 256, 32, 32]             512\n",
      "             ReLU-69          [-1, 256, 32, 32]               0\n",
      "      double_conv-70          [-1, 256, 32, 32]               0\n",
      "               up-71          [-1, 256, 32, 32]               0\n",
      "  ConvTranspose2d-72          [-1, 256, 64, 64]         262,400\n",
      "           Conv2d-73          [-1, 128, 64, 64]         589,952\n",
      "      BatchNorm2d-74          [-1, 128, 64, 64]             256\n",
      "             ReLU-75          [-1, 128, 64, 64]               0\n",
      "           Conv2d-76          [-1, 128, 64, 64]         147,584\n",
      "      BatchNorm2d-77          [-1, 128, 64, 64]             256\n",
      "             ReLU-78          [-1, 128, 64, 64]               0\n",
      "      double_conv-79          [-1, 128, 64, 64]               0\n",
      "               up-80          [-1, 128, 64, 64]               0\n",
      "  ConvTranspose2d-81        [-1, 128, 128, 128]          65,664\n",
      "           Conv2d-82         [-1, 64, 128, 128]         147,520\n",
      "      BatchNorm2d-83         [-1, 64, 128, 128]             128\n",
      "             ReLU-84         [-1, 64, 128, 128]               0\n",
      "           Conv2d-85         [-1, 64, 128, 128]          36,928\n",
      "      BatchNorm2d-86         [-1, 64, 128, 128]             128\n",
      "             ReLU-87         [-1, 64, 128, 128]               0\n",
      "      double_conv-88         [-1, 64, 128, 128]               0\n",
      "               up-89         [-1, 64, 128, 128]               0\n",
      "  ConvTranspose2d-90         [-1, 64, 256, 256]          16,448\n",
      "           Conv2d-91         [-1, 64, 256, 256]          73,792\n",
      "      BatchNorm2d-92         [-1, 64, 256, 256]             128\n",
      "             ReLU-93         [-1, 64, 256, 256]               0\n",
      "           Conv2d-94         [-1, 64, 256, 256]          36,928\n",
      "      BatchNorm2d-95         [-1, 64, 256, 256]             128\n",
      "             ReLU-96         [-1, 64, 256, 256]               0\n",
      "      double_conv-97         [-1, 64, 256, 256]               0\n",
      "               up-98         [-1, 64, 256, 256]               0\n",
      "           Conv2d-99          [-1, 1, 256, 256]              65\n",
      "         outconv-100          [-1, 1, 256, 256]               0\n",
      "            UNet-101          [-1, 1, 256, 256]               0\n",
      "          Conv2d-102         [-1, 64, 256, 256]             640\n",
      "     BatchNorm2d-103         [-1, 64, 256, 256]             128\n",
      "            ReLU-104         [-1, 64, 256, 256]               0\n",
      "          Conv2d-105         [-1, 64, 256, 256]          36,928\n",
      "     BatchNorm2d-106         [-1, 64, 256, 256]             128\n",
      "            ReLU-107         [-1, 64, 256, 256]               0\n",
      "     double_conv-108         [-1, 64, 256, 256]               0\n",
      "          inconv-109         [-1, 64, 256, 256]               0\n",
      "       MaxPool2d-110         [-1, 64, 128, 128]               0\n",
      "          Conv2d-111        [-1, 128, 128, 128]          73,856\n",
      "     BatchNorm2d-112        [-1, 128, 128, 128]             256\n",
      "            ReLU-113        [-1, 128, 128, 128]               0\n",
      "          Conv2d-114        [-1, 128, 128, 128]         147,584\n",
      "     BatchNorm2d-115        [-1, 128, 128, 128]             256\n",
      "            ReLU-116        [-1, 128, 128, 128]               0\n",
      "     double_conv-117        [-1, 128, 128, 128]               0\n",
      "            down-118        [-1, 128, 128, 128]               0\n",
      "       MaxPool2d-119          [-1, 128, 64, 64]               0\n",
      "          Conv2d-120          [-1, 256, 64, 64]         295,168\n",
      "     BatchNorm2d-121          [-1, 256, 64, 64]             512\n",
      "            ReLU-122          [-1, 256, 64, 64]               0\n",
      "          Conv2d-123          [-1, 256, 64, 64]         590,080\n",
      "     BatchNorm2d-124          [-1, 256, 64, 64]             512\n",
      "            ReLU-125          [-1, 256, 64, 64]               0\n",
      "     double_conv-126          [-1, 256, 64, 64]               0\n",
      "            down-127          [-1, 256, 64, 64]               0\n",
      "       MaxPool2d-128          [-1, 256, 32, 32]               0\n",
      "          Conv2d-129          [-1, 512, 32, 32]       1,180,160\n",
      "     BatchNorm2d-130          [-1, 512, 32, 32]           1,024\n",
      "            ReLU-131          [-1, 512, 32, 32]               0\n",
      "          Conv2d-132          [-1, 512, 32, 32]       2,359,808\n",
      "     BatchNorm2d-133          [-1, 512, 32, 32]           1,024\n",
      "            ReLU-134          [-1, 512, 32, 32]               0\n",
      "     double_conv-135          [-1, 512, 32, 32]               0\n",
      "            down-136          [-1, 512, 32, 32]               0\n",
      "       MaxPool2d-137          [-1, 512, 16, 16]               0\n",
      "          Conv2d-138         [-1, 1024, 16, 16]       4,719,616\n",
      "     BatchNorm2d-139         [-1, 1024, 16, 16]           2,048\n",
      "            ReLU-140         [-1, 1024, 16, 16]               0\n",
      "          Conv2d-141         [-1, 1024, 16, 16]       9,438,208\n",
      "     BatchNorm2d-142         [-1, 1024, 16, 16]           2,048\n",
      "            ReLU-143         [-1, 1024, 16, 16]               0\n",
      "     double_conv-144         [-1, 1024, 16, 16]               0\n",
      "            down-145         [-1, 1024, 16, 16]               0\n",
      "       MaxPool2d-146           [-1, 1024, 8, 8]               0\n",
      "          Conv2d-147           [-1, 1024, 8, 8]       9,438,208\n",
      "     BatchNorm2d-148           [-1, 1024, 8, 8]           2,048\n",
      "            ReLU-149           [-1, 1024, 8, 8]               0\n",
      "          Conv2d-150           [-1, 1024, 8, 8]       9,438,208\n",
      "     BatchNorm2d-151           [-1, 1024, 8, 8]           2,048\n",
      "            ReLU-152           [-1, 1024, 8, 8]               0\n",
      "     double_conv-153           [-1, 1024, 8, 8]               0\n",
      "            down-154           [-1, 1024, 8, 8]               0\n",
      " ConvTranspose2d-155         [-1, 1024, 16, 16]       4,195,328\n",
      "          Conv2d-156          [-1, 512, 16, 16]       9,437,696\n",
      "     BatchNorm2d-157          [-1, 512, 16, 16]           1,024\n",
      "            ReLU-158          [-1, 512, 16, 16]               0\n",
      "          Conv2d-159          [-1, 512, 16, 16]       2,359,808\n",
      "     BatchNorm2d-160          [-1, 512, 16, 16]           1,024\n",
      "            ReLU-161          [-1, 512, 16, 16]               0\n",
      "     double_conv-162          [-1, 512, 16, 16]               0\n",
      "              up-163          [-1, 512, 16, 16]               0\n",
      " ConvTranspose2d-164          [-1, 512, 32, 32]       1,049,088\n",
      "          Conv2d-165          [-1, 256, 32, 32]       2,359,552\n",
      "     BatchNorm2d-166          [-1, 256, 32, 32]             512\n",
      "            ReLU-167          [-1, 256, 32, 32]               0\n",
      "          Conv2d-168          [-1, 256, 32, 32]         590,080\n",
      "     BatchNorm2d-169          [-1, 256, 32, 32]             512\n",
      "            ReLU-170          [-1, 256, 32, 32]               0\n",
      "     double_conv-171          [-1, 256, 32, 32]               0\n",
      "              up-172          [-1, 256, 32, 32]               0\n",
      " ConvTranspose2d-173          [-1, 256, 64, 64]         262,400\n",
      "          Conv2d-174          [-1, 128, 64, 64]         589,952\n",
      "     BatchNorm2d-175          [-1, 128, 64, 64]             256\n",
      "            ReLU-176          [-1, 128, 64, 64]               0\n",
      "          Conv2d-177          [-1, 128, 64, 64]         147,584\n",
      "     BatchNorm2d-178          [-1, 128, 64, 64]             256\n",
      "            ReLU-179          [-1, 128, 64, 64]               0\n",
      "     double_conv-180          [-1, 128, 64, 64]               0\n",
      "              up-181          [-1, 128, 64, 64]               0\n",
      " ConvTranspose2d-182        [-1, 128, 128, 128]          65,664\n",
      "          Conv2d-183         [-1, 64, 128, 128]         147,520\n",
      "     BatchNorm2d-184         [-1, 64, 128, 128]             128\n",
      "            ReLU-185         [-1, 64, 128, 128]               0\n",
      "          Conv2d-186         [-1, 64, 128, 128]          36,928\n",
      "     BatchNorm2d-187         [-1, 64, 128, 128]             128\n",
      "            ReLU-188         [-1, 64, 128, 128]               0\n",
      "     double_conv-189         [-1, 64, 128, 128]               0\n",
      "              up-190         [-1, 64, 128, 128]               0\n",
      " ConvTranspose2d-191         [-1, 64, 256, 256]          16,448\n",
      "          Conv2d-192         [-1, 64, 256, 256]          73,792\n",
      "     BatchNorm2d-193         [-1, 64, 256, 256]             128\n",
      "            ReLU-194         [-1, 64, 256, 256]               0\n",
      "          Conv2d-195         [-1, 64, 256, 256]          36,928\n",
      "     BatchNorm2d-196         [-1, 64, 256, 256]             128\n",
      "            ReLU-197         [-1, 64, 256, 256]               0\n",
      "     double_conv-198         [-1, 64, 256, 256]               0\n",
      "              up-199         [-1, 64, 256, 256]               0\n",
      "          Conv2d-200          [-1, 1, 256, 256]              65\n",
      "         outconv-201          [-1, 1, 256, 256]               0\n",
      "            UNet-202          [-1, 1, 256, 256]               0\n",
      "================================================================\n",
      "Total params: 118,206,850\n",
      "Trainable params: 118,206,850\n",
      "Non-trainable params: 0\n",
      "----------------------------------------------------------------\n",
      "Input size (MB): 0.25\n",
      "Forward/backward pass size (MB): 1910.00\n",
      "Params size (MB): 450.92\n",
      "Estimated Total Size (MB): 2361.17\n",
      "----------------------------------------------------------------\n"
     ]
    }
   ],
   "source": [
    "model = UNet(n_channels=1,n_classes=1)\n",
    "model = DataParallel(model, device_ids=[0,1,2,3], dim=0)\n",
    "model = model.to(device)\n",
    "summary(model,(1,256,256))"
   ]
  },
  {
   "cell_type": "code",
   "execution_count": 16,
   "id": "57228ccd-8ed0-4b48-913a-7d1f63f00b65",
   "metadata": {},
   "outputs": [
    {
     "data": {
      "text/plain": [
       "(BCEWithLogitsLoss(),\n",
       " Adam (\n",
       " Parameter Group 0\n",
       "     amsgrad: False\n",
       "     betas: (0.9, 0.999)\n",
       "     capturable: False\n",
       "     differentiable: False\n",
       "     eps: 1e-08\n",
       "     foreach: None\n",
       "     fused: False\n",
       "     lr: 0.001\n",
       "     maximize: False\n",
       "     weight_decay: 0\n",
       " ))"
      ]
     },
     "execution_count": 16,
     "metadata": {},
     "output_type": "execute_result"
    }
   ],
   "source": [
    "#loss_fn = nn.BCELoss(reduction=\"mean\")\n",
    "loss_fn = nn.BCEWithLogitsLoss()\n",
    "#loss_fn = DiceLoss(sigmoid = True)\n",
    "#loss_fn = DiceBCELoss()\n",
    "optimizer = torch.optim.Adam(model.parameters(),lr = 0.001)\n",
    "dice = Dice(average='micro').to(device)\n",
    "loss_fn , optimizer"
   ]
  },
  {
   "cell_type": "code",
   "execution_count": 17,
   "id": "cb75869f-adfc-4cf7-a82e-c03524ab304f",
   "metadata": {},
   "outputs": [],
   "source": [
    "from cad_pe_segmentation.train import *"
   ]
  },
  {
   "cell_type": "code",
   "execution_count": 25,
   "id": "d7201db3-ede0-4e02-bda6-099a66a1ab40",
   "metadata": {},
   "outputs": [
    {
     "name": "stderr",
     "output_type": "stream",
     "text": [
      "  3%|▎         | 1/30 [07:16<3:30:49, 436.18s/it]"
     ]
    },
    {
     "name": "stdout",
     "output_type": "stream",
     "text": [
      "Epoch 1 | Train Loss: 0.00016 | Val Loss: 0.00029 |Dice Coefficient: 0.86791 | Val Dice Coefficient: 0.72105\n"
     ]
    },
    {
     "name": "stderr",
     "output_type": "stream",
     "text": [
      "  7%|▋         | 2/30 [14:32<3:23:30, 436.10s/it]"
     ]
    },
    {
     "name": "stdout",
     "output_type": "stream",
     "text": [
      "Epoch 2 | Train Loss: 0.00016 | Val Loss: 0.00029 |Dice Coefficient: 0.86833 | Val Dice Coefficient: 0.70258\n"
     ]
    },
    {
     "name": "stderr",
     "output_type": "stream",
     "text": [
      " 10%|█         | 3/30 [21:49<3:16:24, 436.47s/it]"
     ]
    },
    {
     "name": "stdout",
     "output_type": "stream",
     "text": [
      "Epoch 3 | Train Loss: 0.00016 | Val Loss: 0.00029 |Dice Coefficient: 0.86887 | Val Dice Coefficient: 0.71314\n"
     ]
    },
    {
     "name": "stderr",
     "output_type": "stream",
     "text": [
      " 13%|█▎        | 4/30 [29:05<3:09:03, 436.29s/it]"
     ]
    },
    {
     "name": "stdout",
     "output_type": "stream",
     "text": [
      "Epoch 4 | Train Loss: 0.00016 | Val Loss: 0.00029 |Dice Coefficient: 0.86936 | Val Dice Coefficient: 0.70750\n"
     ]
    },
    {
     "name": "stderr",
     "output_type": "stream",
     "text": [
      " 17%|█▋        | 5/30 [36:20<3:01:36, 435.87s/it]"
     ]
    },
    {
     "name": "stdout",
     "output_type": "stream",
     "text": [
      "Epoch 5 | Train Loss: 0.00016 | Val Loss: 0.00029 |Dice Coefficient: 0.87035 | Val Dice Coefficient: 0.71022\n"
     ]
    },
    {
     "name": "stderr",
     "output_type": "stream",
     "text": [
      " 20%|██        | 6/30 [43:34<2:54:10, 435.43s/it]"
     ]
    },
    {
     "name": "stdout",
     "output_type": "stream",
     "text": [
      "Epoch 6 | Train Loss: 0.00015 | Val Loss: 0.00029 |Dice Coefficient: 0.87173 | Val Dice Coefficient: 0.70984\n"
     ]
    },
    {
     "name": "stderr",
     "output_type": "stream",
     "text": [
      " 23%|██▎       | 7/30 [50:51<2:47:06, 435.93s/it]"
     ]
    },
    {
     "name": "stdout",
     "output_type": "stream",
     "text": [
      "Epoch 7 | Train Loss: 0.00015 | Val Loss: 0.00030 |Dice Coefficient: 0.87267 | Val Dice Coefficient: 0.71128\n"
     ]
    },
    {
     "name": "stderr",
     "output_type": "stream",
     "text": [
      " 27%|██▋       | 8/30 [58:07<2:39:46, 435.76s/it]"
     ]
    },
    {
     "name": "stdout",
     "output_type": "stream",
     "text": [
      "Epoch 8 | Train Loss: 0.00015 | Val Loss: 0.00030 |Dice Coefficient: 0.87343 | Val Dice Coefficient: 0.71063\n"
     ]
    },
    {
     "name": "stderr",
     "output_type": "stream",
     "text": [
      " 30%|███       | 9/30 [1:05:22<2:32:26, 435.54s/it]"
     ]
    },
    {
     "name": "stdout",
     "output_type": "stream",
     "text": [
      "Epoch 9 | Train Loss: 0.00015 | Val Loss: 0.00030 |Dice Coefficient: 0.87373 | Val Dice Coefficient: 0.71165\n"
     ]
    },
    {
     "name": "stderr",
     "output_type": "stream",
     "text": [
      " 33%|███▎      | 10/30 [1:12:41<2:25:34, 436.70s/it]"
     ]
    },
    {
     "name": "stdout",
     "output_type": "stream",
     "text": [
      "Epoch 10 | Train Loss: 0.00015 | Val Loss: 0.00030 |Dice Coefficient: 0.87454 | Val Dice Coefficient: 0.70961\n"
     ]
    },
    {
     "name": "stderr",
     "output_type": "stream",
     "text": [
      " 37%|███▋      | 11/30 [1:19:59<2:18:23, 437.02s/it]"
     ]
    },
    {
     "name": "stdout",
     "output_type": "stream",
     "text": [
      "Epoch 11 | Train Loss: 0.00015 | Val Loss: 0.00030 |Dice Coefficient: 0.87532 | Val Dice Coefficient: 0.70906\n"
     ]
    },
    {
     "name": "stderr",
     "output_type": "stream",
     "text": [
      " 40%|████      | 12/30 [1:27:11<2:10:40, 435.56s/it]"
     ]
    },
    {
     "name": "stdout",
     "output_type": "stream",
     "text": [
      "Epoch 12 | Train Loss: 0.00015 | Val Loss: 0.00030 |Dice Coefficient: 0.87563 | Val Dice Coefficient: 0.70986\n"
     ]
    },
    {
     "name": "stderr",
     "output_type": "stream",
     "text": [
      " 43%|████▎     | 13/30 [1:34:27<2:03:28, 435.77s/it]"
     ]
    },
    {
     "name": "stdout",
     "output_type": "stream",
     "text": [
      "Epoch 13 | Train Loss: 0.00015 | Val Loss: 0.00030 |Dice Coefficient: 0.87612 | Val Dice Coefficient: 0.70989\n"
     ]
    },
    {
     "name": "stderr",
     "output_type": "stream",
     "text": [
      " 47%|████▋     | 14/30 [1:41:42<1:56:06, 435.39s/it]"
     ]
    },
    {
     "name": "stdout",
     "output_type": "stream",
     "text": [
      "Epoch 14 | Train Loss: 0.00015 | Val Loss: 0.00030 |Dice Coefficient: 0.87649 | Val Dice Coefficient: 0.70945\n"
     ]
    },
    {
     "name": "stderr",
     "output_type": "stream",
     "text": [
      " 50%|█████     | 15/30 [1:48:55<1:48:39, 434.64s/it]"
     ]
    },
    {
     "name": "stdout",
     "output_type": "stream",
     "text": [
      "Epoch 15 | Train Loss: 0.00015 | Val Loss: 0.00030 |Dice Coefficient: 0.87695 | Val Dice Coefficient: 0.70890\n"
     ]
    },
    {
     "name": "stderr",
     "output_type": "stream",
     "text": [
      " 53%|█████▎    | 16/30 [1:56:09<1:41:23, 434.51s/it]"
     ]
    },
    {
     "name": "stdout",
     "output_type": "stream",
     "text": [
      "Epoch 16 | Train Loss: 0.00015 | Val Loss: 0.00030 |Dice Coefficient: 0.87723 | Val Dice Coefficient: 0.70793\n"
     ]
    },
    {
     "name": "stderr",
     "output_type": "stream",
     "text": [
      " 57%|█████▋    | 17/30 [2:03:22<1:34:03, 434.09s/it]"
     ]
    },
    {
     "name": "stdout",
     "output_type": "stream",
     "text": [
      "Epoch 17 | Train Loss: 0.00014 | Val Loss: 0.00030 |Dice Coefficient: 0.87744 | Val Dice Coefficient: 0.70827\n"
     ]
    },
    {
     "name": "stderr",
     "output_type": "stream",
     "text": [
      " 60%|██████    | 18/30 [2:10:38<1:26:57, 434.75s/it]"
     ]
    },
    {
     "name": "stdout",
     "output_type": "stream",
     "text": [
      "Epoch 18 | Train Loss: 0.00014 | Val Loss: 0.00030 |Dice Coefficient: 0.87799 | Val Dice Coefficient: 0.70832\n"
     ]
    },
    {
     "name": "stderr",
     "output_type": "stream",
     "text": [
      " 63%|██████▎   | 19/30 [2:17:55<1:19:49, 435.43s/it]"
     ]
    },
    {
     "name": "stdout",
     "output_type": "stream",
     "text": [
      "Epoch 19 | Train Loss: 0.00014 | Val Loss: 0.00030 |Dice Coefficient: 0.87823 | Val Dice Coefficient: 0.70859\n"
     ]
    },
    {
     "name": "stderr",
     "output_type": "stream",
     "text": [
      " 67%|██████▋   | 20/30 [2:25:08<1:12:25, 434.53s/it]"
     ]
    },
    {
     "name": "stdout",
     "output_type": "stream",
     "text": [
      "Epoch 20 | Train Loss: 0.00014 | Val Loss: 0.00030 |Dice Coefficient: 0.87884 | Val Dice Coefficient: 0.70901\n"
     ]
    },
    {
     "name": "stderr",
     "output_type": "stream",
     "text": [
      " 70%|███████   | 21/30 [2:32:22<1:05:10, 434.51s/it]"
     ]
    },
    {
     "name": "stdout",
     "output_type": "stream",
     "text": [
      "Epoch 21 | Train Loss: 0.00014 | Val Loss: 0.00030 |Dice Coefficient: 0.87909 | Val Dice Coefficient: 0.70908\n"
     ]
    },
    {
     "name": "stderr",
     "output_type": "stream",
     "text": [
      " 73%|███████▎  | 22/30 [2:39:36<57:54, 434.34s/it]  "
     ]
    },
    {
     "name": "stdout",
     "output_type": "stream",
     "text": [
      "Epoch 22 | Train Loss: 0.00014 | Val Loss: 0.00031 |Dice Coefficient: 0.87912 | Val Dice Coefficient: 0.70910\n"
     ]
    },
    {
     "name": "stderr",
     "output_type": "stream",
     "text": [
      " 77%|███████▋  | 23/30 [2:46:52<50:42, 434.68s/it]"
     ]
    },
    {
     "name": "stdout",
     "output_type": "stream",
     "text": [
      "Epoch 23 | Train Loss: 0.00014 | Val Loss: 0.00031 |Dice Coefficient: 0.87943 | Val Dice Coefficient: 0.70944\n"
     ]
    },
    {
     "name": "stderr",
     "output_type": "stream",
     "text": [
      " 80%|████████  | 24/30 [2:54:07<43:29, 434.85s/it]"
     ]
    },
    {
     "name": "stdout",
     "output_type": "stream",
     "text": [
      "Epoch 24 | Train Loss: 0.00014 | Val Loss: 0.00031 |Dice Coefficient: 0.87963 | Val Dice Coefficient: 0.70986\n"
     ]
    },
    {
     "name": "stderr",
     "output_type": "stream",
     "text": [
      " 83%|████████▎ | 25/30 [3:01:20<36:11, 434.36s/it]"
     ]
    },
    {
     "name": "stdout",
     "output_type": "stream",
     "text": [
      "Epoch 25 | Train Loss: 0.00014 | Val Loss: 0.00031 |Dice Coefficient: 0.88003 | Val Dice Coefficient: 0.70999\n"
     ]
    },
    {
     "name": "stderr",
     "output_type": "stream",
     "text": [
      " 87%|████████▋ | 26/30 [3:08:36<28:58, 434.69s/it]"
     ]
    },
    {
     "name": "stdout",
     "output_type": "stream",
     "text": [
      "Epoch 26 | Train Loss: 0.00014 | Val Loss: 0.00031 |Dice Coefficient: 0.88045 | Val Dice Coefficient: 0.71084\n"
     ]
    },
    {
     "name": "stderr",
     "output_type": "stream",
     "text": [
      " 90%|█████████ | 27/30 [3:15:52<21:45, 435.17s/it]"
     ]
    },
    {
     "name": "stdout",
     "output_type": "stream",
     "text": [
      "Epoch 27 | Train Loss: 0.00014 | Val Loss: 0.00031 |Dice Coefficient: 0.88084 | Val Dice Coefficient: 0.71106\n"
     ]
    },
    {
     "name": "stderr",
     "output_type": "stream",
     "text": [
      " 93%|█████████▎| 28/30 [3:23:05<14:29, 434.64s/it]"
     ]
    },
    {
     "name": "stdout",
     "output_type": "stream",
     "text": [
      "Epoch 28 | Train Loss: 0.00014 | Val Loss: 0.00031 |Dice Coefficient: 0.88126 | Val Dice Coefficient: 0.71124\n"
     ]
    },
    {
     "name": "stderr",
     "output_type": "stream",
     "text": [
      " 97%|█████████▋| 29/30 [3:30:22<07:15, 435.26s/it]"
     ]
    },
    {
     "name": "stdout",
     "output_type": "stream",
     "text": [
      "Epoch 29 | Train Loss: 0.00014 | Val Loss: 0.00031 |Dice Coefficient: 0.88160 | Val Dice Coefficient: 0.71144\n"
     ]
    },
    {
     "name": "stderr",
     "output_type": "stream",
     "text": [
      "100%|██████████| 30/30 [3:37:38<00:00, 435.29s/it]"
     ]
    },
    {
     "name": "stdout",
     "output_type": "stream",
     "text": [
      "Epoch 30 | Train Loss: 0.00014 | Val Loss: 0.00031 |Dice Coefficient: 0.88197 | Val Dice Coefficient: 0.71124\n"
     ]
    },
    {
     "name": "stderr",
     "output_type": "stream",
     "text": [
      "\n"
     ]
    }
   ],
   "source": [
    "epochs = 30\n",
    "train(epochs, model, train_loader,val_loader)"
   ]
  },
  {
   "cell_type": "code",
   "execution_count": 28,
   "id": "47f98b8a-faa1-4a0a-9abc-2b42a55363e9",
   "metadata": {},
   "outputs": [
    {
     "name": "stdout",
     "output_type": "stream",
     "text": [
      "Test Loss: 0.00030 | Dice Loss: 0.29569 | Dice Coefficient: 0.70431\n"
     ]
    }
   ],
   "source": [
    "def test():\n",
    "    test_loss = 0\n",
    "    test_dice_coefficient = []\n",
    "    test_dice_loss = 0\n",
    "\n",
    "    model.eval()\n",
    "    with torch.no_grad():\n",
    "        for i, data in enumerate(test_loader):\n",
    "            image, label = data\n",
    "            image, label = image.to(device), label.to(device)\n",
    "            output = model(image)\n",
    "            loss = loss_fn(output, label)\n",
    "\n",
    "            # calculate dice coefficient and dice loss\n",
    "            #pred = (output > 0.5).float()\n",
    "            label = label.to(torch.int64)\n",
    "            testdice = dice(output, label)\n",
    "            dice_loss = 1 - testdice\n",
    "\n",
    "            test_loss += loss.item()\n",
    "            test_dice_coefficient.append(testdice.item())\n",
    "            test_dice_loss += dice_loss.item()\n",
    "\n",
    "        # calculate average test loss, dice coefficient, and dice loss\n",
    "        #print(len(test_dice_coefficient))\n",
    "    test_loss /= len(test_loader)\n",
    "    avg_test_dice_coefficient = sum(test_dice_coefficient)/len(test_dice_coefficient)\n",
    "    test_dice_loss /= len(test_loader)\n",
    "\n",
    "    print(f\"Test Loss: {test_loss:.5f} | Dice Loss: {test_dice_loss:.5f} | Dice Coefficient: {avg_test_dice_coefficient:.5f}\")\n",
    "\n",
    "\n",
    "    \n",
    "    \n",
    "test()"
   ]
  },
  {
   "cell_type": "code",
   "execution_count": 29,
   "id": "fc8d9324-595e-4f70-b1af-eaa52fdf45b2",
   "metadata": {},
   "outputs": [
    {
     "name": "stdout",
     "output_type": "stream",
     "text": [
      "0\n",
      "1\n",
      "2\n",
      "3\n",
      "4\n"
     ]
    },
    {
     "data": {
      "image/png": "[encoded data removed]",
      "text/plain": [
       "<Figure size 720x1440 with 10 Axes>"
      ]
     },
     "metadata": {
      "needs_background": "light"
     },
     "output_type": "display_data"
    }
   ],
   "source": [
    "n_max_imgs = 5\n",
    "\n",
    "plt.figure(figsize=(10, 20))\n",
    "for n in range(n_max_imgs):\n",
    "    model.eval()\n",
    "    print(n)\n",
    "    #print(len(test_dataset))\n",
    "    x, t = val_dataset[n]\n",
    "    x,t = x.to(device) , t.to(device)\n",
    "    y = model(x.unsqueeze(0)) \n",
    "    y_label = (y>0).int().squeeze()\n",
    "    \n",
    "    #t = np.squeeze(t) \n",
    "    #print(torch.unique(y_label))\n",
    "    t = t.cpu()\n",
    "    \n",
    "    z = y_label.cpu()\n",
    "    \n",
    "    plt.subplot(n_max_imgs, 2, 2*n+1)\n",
    "    # plt.imshow(x.cpu().permute(1,2,0),cmap = \"gray\")\n",
    "    plt.imshow(t.permute(1,2,0),cmap = \"gray\",alpha = 1)\n",
    "    plt.title(\"Original Mask\")\n",
    "    plt.axis(False);\n",
    "    plt.subplot(n_max_imgs, 2, 2*n+2)\n",
    "    # plt.imshow(x.cpu().permute(1,2,0),cmap = \"gray\")\n",
    "    plt.imshow(z,alpha = 1,cmap = \"gray\")\n",
    "    plt.title(\"Predicition\")\n",
    "    plt.axis(False);\n",
    "    # plt.savefig(\"overleafasu_mayo_results.png\",dpi=300)\n",
    "plt.show()"
   ]
  },
  {
   "cell_type": "code",
   "execution_count": null,
   "id": "7a401546-cdd8-4871-a2f5-73c5ab2d2ac9",
   "metadata": {},
   "outputs": [],
   "source": []
  }
 ],
 "metadata": {
  "kernelspec": {
   "display_name": "Python 3 (ipykernel)",
   "language": "python",
   "name": "python3"
  },
  "language_info": {
   "codemirror_mode": {
    "name": "ipython",
    "version": 3
   },
   "file_extension": ".py",
   "mimetype": "text/x-python",
   "name": "python",
   "nbconvert_exporter": "python",
   "pygments_lexer": "ipython3",
   "version": "3.9.12"
  },
  "widgets": {
   "application/vnd.jupyter.widget-state+json": {
    "state": {},
    "version_major": 2,
    "version_minor": 0
   }
  }
 },
 "nbformat": 4,
 "nbformat_minor": 5
}
